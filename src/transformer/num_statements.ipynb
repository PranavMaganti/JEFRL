{
 "cells": [
  {
   "cell_type": "code",
   "execution_count": 1,
   "metadata": {},
   "outputs": [],
   "source": [
    "import pickle\n",
    "import sys\n",
    "from pathlib import Path\n",
    "from typing import Any\n",
    "\n",
    "import tqdm\n",
    "\n",
    "from preprocessing.normalise import collect_id, normalize_id\n",
    "from utils.loader import load_raw_corpus\n",
    "from utils.logging import setup_logging\n",
    "\n",
    "sys.setrecursionlimit(20000)\n",
    "setup_logging()"
   ]
  },
  {
   "cell_type": "code",
   "execution_count": 2,
   "metadata": {},
   "outputs": [
    {
     "name": "stderr",
     "output_type": "stream",
     "text": [
      " 32%|███▏      | 5742/18162 [00:11<00:28, 436.29it/s] /home/pranav/Projects/Uni/Year_4/Computing/FinarYearProject/js-rl/src/utils/loader.py:30: FutureWarning: Possible set difference at position 2\n",
      "  ast = load_ast(code, file, ast_path)\n",
      " 94%|█████████▍| 17077/18162 [01:02<00:04, 236.19it/s] /home/pranav/Projects/Uni/Year_4/Computing/FinarYearProject/js-rl/src/utils/loader.py:30: FutureWarning: Possible nested set at position 2\n",
      "  ast = load_ast(code, file, ast_path)\n",
      "/home/pranav/Projects/Uni/Year_4/Computing/FinarYearProject/js-rl/src/utils/loader.py:30: FutureWarning: Possible nested set at position 1\n",
      "  ast = load_ast(code, file, ast_path)\n",
      "100%|██████████| 18162/18162 [01:03<00:00, 287.11it/s]\n"
     ]
    }
   ],
   "source": [
    "corpus = load_raw_corpus(Path('data/DIE-corpus/')).values()"
   ]
  },
  {
   "cell_type": "code",
   "execution_count": 7,
   "metadata": {},
   "outputs": [
    {
     "name": "stderr",
     "output_type": "stream",
     "text": [
      "100%|██████████| 17942/17942 [00:28<00:00, 624.15it/s] \n"
     ]
    }
   ],
   "source": [
    "from js_ast.analysis import count_statements\n",
    "\n",
    "num_statements = []\n",
    "\n",
    "for root in tqdm.tqdm(corpus):\n",
    "    num_statements.append(count_statements(root))"
   ]
  },
  {
   "cell_type": "code",
   "execution_count": 8,
   "metadata": {},
   "outputs": [
    {
     "name": "stdout",
     "output_type": "stream",
     "text": [
      "Average number of statements: 92.22806821981942\n",
      "Max number of statements: 50008\n",
      "Min number of statements: 0\n",
      "Median number of statements: 20\n"
     ]
    }
   ],
   "source": [
    "print(\"Average number of statements:\", sum(num_statements) / len(num_statements))\n",
    "print(\"Max number of statements:\", max(num_statements))\n",
    "print(\"Min number of statements:\", min(num_statements))\n",
    "print(\"Median number of statements:\", sorted(num_statements)[len(num_statements) // 2])"
   ]
  }
 ],
 "metadata": {
  "kernelspec": {
   "display_name": "js-rl-vfj9GiAe-py3.11",
   "language": "python",
   "name": "python3"
  },
  "language_info": {
   "codemirror_mode": {
    "name": "ipython",
    "version": 3
   },
   "file_extension": ".py",
   "mimetype": "text/x-python",
   "name": "python",
   "nbconvert_exporter": "python",
   "pygments_lexer": "ipython3",
   "version": "3.11.3"
  },
  "orig_nbformat": 4
 },
 "nbformat": 4,
 "nbformat_minor": 2
}
