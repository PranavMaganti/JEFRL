{
 "cells": [
  {
   "cell_type": "code",
   "execution_count": 1,
   "metadata": {},
   "outputs": [],
   "source": [
    "import sys\n",
    "\n",
    "import torch\n",
    "import torch.nn as nn\n",
    "import tqdm\n",
    "from torch.utils.data import DataLoader, Dataset, random_split\n",
    "\n",
    "from utils.logging import setup_logging\n",
    "\n",
    "sys.setrecursionlimit(20000)\n",
    "setup_logging()"
   ]
  },
  {
   "cell_type": "code",
   "execution_count": 2,
   "metadata": {},
   "outputs": [
    {
     "name": "stderr",
     "output_type": "stream",
     "text": [
      "100%|██████████| 54/54 [00:00<00:00, 3756.78it/s]\n"
     ]
    }
   ],
   "source": [
    "import pickle\n",
    "\n",
    "with open(\"ASTBERTa/data.pkl\", \"rb\") as f:\n",
    "  data = pickle.load(f)\n",
    "\n",
    "with open(\"ASTBERTa/vocab_data.pkl\", \"rb\") as f:\n",
    "  vocab_data = pickle.load(f)\n",
    "\n",
    "token_to_id = vocab_data[\"token_to_id\"]\n",
    "id_to_token = vocab_data[\"id_to_token\"]\n",
    "special_token_ids = vocab_data[\"special_token_ids\"]\n",
    "vocab = vocab_data[\"vocab\"]\n",
    "frag_type_to_ids = vocab_data[\"frag_type_to_ids\"]\n",
    "frag_id_to_type = vocab_data[\"frag_id_to_type\"]\n",
    "\n",
    "\n",
    "for key, value in tqdm.tqdm(frag_type_to_ids.items()):\n",
    "  frag_type_to_ids[key] = torch.tensor(value, dtype=torch.long)"
   ]
  },
  {
   "cell_type": "code",
   "execution_count": 3,
   "metadata": {},
   "outputs": [],
   "source": [
    "PAD_TOKEN = \"<pad>\"\n",
    "CLS_TOKEN = \"<s>\"\n",
    "SEP_TOKEN = \"</s>\"\n",
    "MASK_TOKEN = \"<mask>\"\n",
    "UNK_TOKEN = \"<unk>\"\n",
    "\n",
    "special_tokens = [PAD_TOKEN, CLS_TOKEN, MASK_TOKEN, SEP_TOKEN, UNK_TOKEN]\n",
    "\n",
    "\n",
    "class FragDataset(Dataset[list[int]]):\n",
    "  def __init__(self, data: list[list[int]]):\n",
    "    self.data = data\n",
    "\n",
    "  def __len__(self):\n",
    "    return len(self.data)\n",
    "\n",
    "  def __getitem__(self, index: int) -> list[int]:\n",
    "    return self.data[index]"
   ]
  },
  {
   "cell_type": "code",
   "execution_count": 4,
   "metadata": {},
   "outputs": [],
   "source": [
    "MAX_SEQ_LEN = 512\n",
    "MLM_PROB = 0.15\n",
    "\n",
    "def seq_data_collator(\n",
    "    batch: list[list[int]]\n",
    ") -> dict[str, torch.Tensor]:\n",
    "    seqs: list[torch.Tensor] = []\n",
    "\n",
    "    for x in batch:\n",
    "        if torch.rand(1).item() < 0.75:\n",
    "            random_start_idx = torch.randint(low = 2, high=len(x), size =(1,)).item()\n",
    "            seq = [token_to_id[CLS_TOKEN]] + x[random_start_idx:random_start_idx+MAX_SEQ_LEN-1]\n",
    "        else:\n",
    "            seq = x[:MAX_SEQ_LEN] \n",
    "        \n",
    "        assert len(seq) <= MAX_SEQ_LEN\n",
    "        seqs.append(torch.tensor(seq))\n",
    "    \n",
    "\n",
    "\n",
    "    inputs = torch.nn.utils.rnn.pad_sequence(seqs, batch_first=True)\n",
    "\n",
    "    labels = inputs.clone()\n",
    "\n",
    "    special_token_mask = torch.zeros_like(labels).float()\n",
    "    special_token_mask[(labels >= 0) & (labels <= len(special_tokens))] = 1.0\n",
    "    special_token_mask = special_token_mask.bool()\n",
    "\n",
    "    probability_matrix = torch.full(labels.shape, MLM_PROB)\n",
    "    probability_matrix.masked_fill_(special_token_mask, value=0.0)\n",
    "    masked_indices = torch.bernoulli(probability_matrix).bool()\n",
    "\n",
    "    # 80% of the time, we replace masked input tokens with tokenizer.mask_token ([MASK])\n",
    "    indices_replaced = (\n",
    "        torch.bernoulli(torch.full(labels.shape, 0.8)).bool() & masked_indices\n",
    "    )\n",
    "    inputs[indices_replaced] = token_to_id[MASK_TOKEN]\n",
    "    labels[~masked_indices] = -100\n",
    "\n",
    "    # 10% of the time, we replace masked input tokens with random word\n",
    "    indices_random = (\n",
    "        torch.bernoulli(torch.full(labels.shape, 0.5)).bool()\n",
    "        & masked_indices\n",
    "        & ~indices_replaced\n",
    "    )\n",
    "    random_words = torch.randint(len(vocab), labels.shape, dtype=torch.long)\n",
    "    inputs[indices_random] = random_words[indices_random]\n",
    "\n",
    "    attention_mask = torch.ones_like(inputs, dtype=torch.float)\n",
    "    attention_mask[inputs == token_to_id[PAD_TOKEN]] = 0.0\n",
    "\n",
    "    # The rest of the time (10% of the time) we keep the masked input tokens unchanged\n",
    "    return {\n",
    "        \"input_ids\": inputs,\n",
    "        \"labels\": labels,\n",
    "        \"attention_mask\": attention_mask,\n",
    "    }\n",
    "\n"
   ]
  },
  {
   "cell_type": "code",
   "execution_count": 5,
   "metadata": {},
   "outputs": [
    {
     "name": "stderr",
     "output_type": "stream",
     "text": [
      "/home/pranav/.cache/pypoetry/virtualenvs/js-rl-vfj9GiAe-py3.11/lib/python3.11/site-packages/tqdm/auto.py:22: TqdmWarning: IProgress not found. Please update jupyter and ipywidgets. See https://ipywidgets.readthedocs.io/en/stable/user_install.html\n",
      "  from .autonotebook import tqdm as notebook_tqdm\n"
     ]
    },
    {
     "name": "stdout",
     "output_type": "stream",
     "text": [
      "The model has 59,313,982 trainable parameters\n",
      "RobertaForMaskedLM(\n",
      "  (roberta): RobertaModel(\n",
      "    (embeddings): RobertaEmbeddings(\n",
      "      (word_embeddings): Embedding(20542, 768, padding_idx=0)\n",
      "      (position_embeddings): Embedding(514, 768, padding_idx=0)\n",
      "      (token_type_embeddings): Embedding(2, 768)\n",
      "      (LayerNorm): LayerNorm((768,), eps=1e-12, elementwise_affine=True)\n",
      "      (dropout): Dropout(p=0.1, inplace=False)\n",
      "    )\n",
      "    (encoder): RobertaEncoder(\n",
      "      (layer): ModuleList(\n",
      "        (0-5): 6 x RobertaLayer(\n",
      "          (attention): RobertaAttention(\n",
      "            (self): RobertaSelfAttention(\n",
      "              (query): Linear(in_features=768, out_features=768, bias=True)\n",
      "              (key): Linear(in_features=768, out_features=768, bias=True)\n",
      "              (value): Linear(in_features=768, out_features=768, bias=True)\n",
      "              (dropout): Dropout(p=0.1, inplace=False)\n",
      "            )\n",
      "            (output): RobertaSelfOutput(\n",
      "              (dense): Linear(in_features=768, out_features=768, bias=True)\n",
      "              (LayerNorm): LayerNorm((768,), eps=1e-12, elementwise_affine=True)\n",
      "              (dropout): Dropout(p=0.1, inplace=False)\n",
      "            )\n",
      "          )\n",
      "          (intermediate): RobertaIntermediate(\n",
      "            (dense): Linear(in_features=768, out_features=3072, bias=True)\n",
      "            (intermediate_act_fn): GELUActivation()\n",
      "          )\n",
      "          (output): RobertaOutput(\n",
      "            (dense): Linear(in_features=3072, out_features=768, bias=True)\n",
      "            (LayerNorm): LayerNorm((768,), eps=1e-12, elementwise_affine=True)\n",
      "            (dropout): Dropout(p=0.1, inplace=False)\n",
      "          )\n",
      "        )\n",
      "      )\n",
      "    )\n",
      "  )\n",
      "  (lm_head): RobertaLMHead(\n",
      "    (dense): Linear(in_features=768, out_features=768, bias=True)\n",
      "    (layer_norm): LayerNorm((768,), eps=1e-12, elementwise_affine=True)\n",
      "    (decoder): Linear(in_features=768, out_features=20542, bias=True)\n",
      "  )\n",
      ")\n"
     ]
    }
   ],
   "source": [
    "from transformers import RobertaForMaskedLM, RobertaModel, RobertaConfig\n",
    "\n",
    "\n",
    "device = torch.device('cuda' if torch.cuda.is_available() else 'cpu')\n",
    "# device = torch.device('cpu')\n",
    "\n",
    "vocab_size = len(vocab)  # size of vocabulary\n",
    "intermediate_size = 3072  # embedding dimension\n",
    "hidden_size = 768\n",
    "\n",
    "num_hidden_layers = 6\n",
    "num_attention_heads = 12\n",
    "dropout = 0.1\n",
    "\n",
    "batch_size = 8\n",
    "top_k = 64\n",
    "\n",
    "dataset = FragDataset(data)\n",
    "train_split, val_split, test_split = random_split(dataset, [0.8, 0.1, 0.1])\n",
    "\n",
    "train_loader = DataLoader(train_split, batch_size=batch_size, shuffle=True, collate_fn=seq_data_collator)\n",
    "val_loader = DataLoader(val_split, batch_size=batch_size, shuffle=True, collate_fn=seq_data_collator)\n",
    "test_loader = DataLoader(test_split, batch_size=batch_size, shuffle=True, collate_fn=seq_data_collator)\n",
    "\n",
    "config = RobertaConfig(\n",
    "    vocab_size=vocab_size,\n",
    "    hidden_size=hidden_size,\n",
    "    num_hidden_layers=num_hidden_layers,\n",
    "    num_attention_heads=num_attention_heads,\n",
    "    intermediate_size=intermediate_size,\n",
    "    hidden_dropout_prob=dropout,\n",
    "    max_position_embeddings=MAX_SEQ_LEN+2,\n",
    "    pad_token_id=token_to_id[PAD_TOKEN],\n",
    "    bos_token_id=token_to_id[CLS_TOKEN],\n",
    "    eos_token_id=token_to_id[SEP_TOKEN]\n",
    ")\n",
    "model = RobertaForMaskedLM(config).to(device)\n",
    "\n",
    "print(\n",
    "    f\"The model has {sum(p.numel() for p in model.parameters() if p.requires_grad):,} trainable parameters\"\n",
    ")\n",
    "print(model)\n"
   ]
  },
  {
   "cell_type": "code",
   "execution_count": 6,
   "metadata": {},
   "outputs": [],
   "source": [
    "from pathlib import Path\n",
    "from typing import Any\n",
    "\n",
    "import tqdm\n",
    "\n",
    "MODEL_SAVE_PATH = \"ASTBERTa/models-l1/\"\n",
    "\n",
    "def evaluate_batch(model: RobertaForMaskedLM, batch: dict[str, Any]) -> torch.Tensor:\n",
    "    input_ids = batch[\"input_ids\"].to(device)\n",
    "    labels = batch[\"labels\"].to(device)\n",
    "    attention_mask = batch[\"attention_mask\"].to(device)\n",
    "\n",
    "    out = model(input_ids, attention_mask=attention_mask, labels=labels)\n",
    "\n",
    "    return out.loss\n",
    "\n",
    "\n",
    "\n",
    "def evaluate(model: RobertaForMaskedLM, val_loader: DataLoader[list[int]]):\n",
    "    model.eval()\n",
    "    total_loss = 0\n",
    "    with torch.no_grad():\n",
    "        for batch in tqdm.tqdm(val_loader):\n",
    "            loss = evaluate_batch(model, batch)\n",
    "            total_loss += loss.item()\n",
    "\n",
    "    return total_loss / len(val_loader)\n",
    "\n",
    "\n",
    "def train(\n",
    "    model: RobertaForMaskedLM,\n",
    "    train_loader: DataLoader[list[int]],\n",
    "    val_loader: DataLoader[list[int]],\n",
    "    optim: torch.optim.Optimizer,\n",
    "    model_save_path: Path = Path(MODEL_SAVE_PATH),\n",
    "    epochs: int = 8,\n",
    "):\n",
    "    steps = 0\n",
    "\n",
    "    train_losses = []\n",
    "    val_losses = []\n",
    "\n",
    "    for epoch in (pbar := tqdm.trange(epochs)):\n",
    "        model.train()\n",
    "        epoch_loss = 0\n",
    "        per_batch_loss = []\n",
    "        for _, batch in (\n",
    "            ibar := tqdm.tqdm(\n",
    "                enumerate(train_loader), leave=True, total=len(train_loader)\n",
    "            )\n",
    "        ):\n",
    "            optim.zero_grad()\n",
    "            loss = evaluate_batch(model, batch)\n",
    "            loss.backward()\n",
    "            optim.step()\n",
    "            steps += 1\n",
    "\n",
    "            epoch_loss += loss.item()\n",
    "            per_batch_loss.append(loss.item())\n",
    "            # print(f\"Epoch: {epoch}, Batch: {i}, Loss: {loss.item()}\")\n",
    "            ibar.set_postfix({\"loss\": loss.item()})\n",
    "\n",
    "            if steps % 500 == 0:\n",
    "                torch.save(model, model_save_path / f\"model_{steps}.pt\")\n",
    "\n",
    "        val_loss = evaluate(model, val_loader)\n",
    "        pbar.set_postfix(\n",
    "            {\"val_loss\": val_loss, \"train_loss\": epoch_loss / len(train_loader)}\n",
    "        )\n",
    "        print(\n",
    "            f\"Epoch: {epoch}, Val Loss: {val_loss}, Train Loss: {epoch_loss / len(train_loader)}\"\n",
    "        )\n",
    "\n",
    "        train_losses.append(per_batch_loss)\n",
    "        val_losses.append(val_loss)\n",
    "\n",
    "        pickle.dump(train_losses, open(model_save_path / \"train_losses.pkl\", \"wb\"))\n",
    "        pickle.dump(val_losses, open(model_save_path / \"val_losses.pkl\", \"wb\"))"
   ]
  },
  {
   "cell_type": "code",
   "execution_count": 7,
   "metadata": {},
   "outputs": [
    {
     "name": "stderr",
     "output_type": "stream",
     "text": [
      "  0%|          | 0/8 [00:00<?, ?it/s]\n",
      "  1%|          | 18/1795 [00:04<07:51,  3.77it/s, loss=6.28]\n",
      "  0%|          | 0/8 [00:04<?, ?it/s]\n"
     ]
    },
    {
     "ename": "KeyboardInterrupt",
     "evalue": "",
     "output_type": "error",
     "traceback": [
      "\u001b[0;31m---------------------------------------------------------------------------\u001b[0m",
      "\u001b[0;31mKeyboardInterrupt\u001b[0m                         Traceback (most recent call last)",
      "Cell \u001b[0;32mIn[7], line 9\u001b[0m\n\u001b[1;32m      1\u001b[0m optim \u001b[39m=\u001b[39m torch\u001b[39m.\u001b[39moptim\u001b[39m.\u001b[39mAdamW(\n\u001b[1;32m      2\u001b[0m     model\u001b[39m.\u001b[39mparameters(),\n\u001b[1;32m      3\u001b[0m     lr\u001b[39m=\u001b[39m\u001b[39m1e-3\u001b[39m,\n\u001b[0;32m   (...)\u001b[0m\n\u001b[1;32m      6\u001b[0m     betas\u001b[39m=\u001b[39m(\u001b[39m0.9\u001b[39m, \u001b[39m0.98\u001b[39m),\n\u001b[1;32m      7\u001b[0m )\n\u001b[0;32m----> 9\u001b[0m train(model, train_loader, val_loader, optim)\n",
      "Cell \u001b[0;32mIn[6], line 61\u001b[0m, in \u001b[0;36mtrain\u001b[0;34m(model, train_loader, val_loader, optim, model_save_path, epochs)\u001b[0m\n\u001b[1;32m     59\u001b[0m per_batch_loss\u001b[39m.\u001b[39mappend(loss\u001b[39m.\u001b[39mitem())\n\u001b[1;32m     60\u001b[0m \u001b[39m# print(f\"Epoch: {epoch}, Batch: {i}, Loss: {loss.item()}\")\u001b[39;00m\n\u001b[0;32m---> 61\u001b[0m ibar\u001b[39m.\u001b[39;49mset_postfix({\u001b[39m\"\u001b[39;49m\u001b[39mloss\u001b[39;49m\u001b[39m\"\u001b[39;49m: loss\u001b[39m.\u001b[39;49mitem()})\n\u001b[1;32m     63\u001b[0m \u001b[39mif\u001b[39;00m steps \u001b[39m%\u001b[39m \u001b[39m500\u001b[39m \u001b[39m==\u001b[39m \u001b[39m0\u001b[39m:\n\u001b[1;32m     64\u001b[0m     torch\u001b[39m.\u001b[39msave(model, model_save_path \u001b[39m/\u001b[39m \u001b[39mf\u001b[39m\u001b[39m\"\u001b[39m\u001b[39mmodel_\u001b[39m\u001b[39m{\u001b[39;00msteps\u001b[39m}\u001b[39;00m\u001b[39m.pt\u001b[39m\u001b[39m\"\u001b[39m)\n",
      "File \u001b[0;32m~/.cache/pypoetry/virtualenvs/js-rl-vfj9GiAe-py3.11/lib/python3.11/site-packages/tqdm/std.py:1445\u001b[0m, in \u001b[0;36mtqdm.set_postfix\u001b[0;34m(self, ordered_dict, refresh, **kwargs)\u001b[0m\n\u001b[1;32m   1442\u001b[0m \u001b[39mself\u001b[39m\u001b[39m.\u001b[39mpostfix \u001b[39m=\u001b[39m \u001b[39m'\u001b[39m\u001b[39m, \u001b[39m\u001b[39m'\u001b[39m\u001b[39m.\u001b[39mjoin(key \u001b[39m+\u001b[39m \u001b[39m'\u001b[39m\u001b[39m=\u001b[39m\u001b[39m'\u001b[39m \u001b[39m+\u001b[39m postfix[key]\u001b[39m.\u001b[39mstrip()\n\u001b[1;32m   1443\u001b[0m                          \u001b[39mfor\u001b[39;00m key \u001b[39min\u001b[39;00m postfix\u001b[39m.\u001b[39mkeys())\n\u001b[1;32m   1444\u001b[0m \u001b[39mif\u001b[39;00m refresh:\n\u001b[0;32m-> 1445\u001b[0m     \u001b[39mself\u001b[39;49m\u001b[39m.\u001b[39;49mrefresh()\n",
      "File \u001b[0;32m~/.cache/pypoetry/virtualenvs/js-rl-vfj9GiAe-py3.11/lib/python3.11/site-packages/tqdm/std.py:1361\u001b[0m, in \u001b[0;36mtqdm.refresh\u001b[0;34m(self, nolock, lock_args)\u001b[0m\n\u001b[1;32m   1359\u001b[0m     \u001b[39melse\u001b[39;00m:\n\u001b[1;32m   1360\u001b[0m         \u001b[39mself\u001b[39m\u001b[39m.\u001b[39m_lock\u001b[39m.\u001b[39macquire()\n\u001b[0;32m-> 1361\u001b[0m \u001b[39mself\u001b[39;49m\u001b[39m.\u001b[39;49mdisplay()\n\u001b[1;32m   1362\u001b[0m \u001b[39mif\u001b[39;00m \u001b[39mnot\u001b[39;00m nolock:\n\u001b[1;32m   1363\u001b[0m     \u001b[39mself\u001b[39m\u001b[39m.\u001b[39m_lock\u001b[39m.\u001b[39mrelease()\n",
      "File \u001b[0;32m~/.cache/pypoetry/virtualenvs/js-rl-vfj9GiAe-py3.11/lib/python3.11/site-packages/tqdm/std.py:1509\u001b[0m, in \u001b[0;36mtqdm.display\u001b[0;34m(self, msg, pos)\u001b[0m\n\u001b[1;32m   1507\u001b[0m \u001b[39mif\u001b[39;00m pos:\n\u001b[1;32m   1508\u001b[0m     \u001b[39mself\u001b[39m\u001b[39m.\u001b[39mmoveto(pos)\n\u001b[0;32m-> 1509\u001b[0m \u001b[39mself\u001b[39;49m\u001b[39m.\u001b[39;49msp(\u001b[39mself\u001b[39;49m\u001b[39m.\u001b[39;49m\u001b[39m__str__\u001b[39;49m() \u001b[39mif\u001b[39;49;00m msg \u001b[39mis\u001b[39;49;00m \u001b[39mNone\u001b[39;49;00m \u001b[39melse\u001b[39;49;00m msg)\n\u001b[1;32m   1510\u001b[0m \u001b[39mif\u001b[39;00m pos:\n\u001b[1;32m   1511\u001b[0m     \u001b[39mself\u001b[39m\u001b[39m.\u001b[39mmoveto(\u001b[39m-\u001b[39mpos)\n",
      "File \u001b[0;32m~/.cache/pypoetry/virtualenvs/js-rl-vfj9GiAe-py3.11/lib/python3.11/site-packages/tqdm/std.py:350\u001b[0m, in \u001b[0;36mtqdm.status_printer.<locals>.print_status\u001b[0;34m(s)\u001b[0m\n\u001b[1;32m    348\u001b[0m \u001b[39mdef\u001b[39;00m \u001b[39mprint_status\u001b[39m(s):\n\u001b[1;32m    349\u001b[0m     len_s \u001b[39m=\u001b[39m disp_len(s)\n\u001b[0;32m--> 350\u001b[0m     fp_write(\u001b[39m'\u001b[39;49m\u001b[39m\\r\u001b[39;49;00m\u001b[39m'\u001b[39;49m \u001b[39m+\u001b[39;49m s \u001b[39m+\u001b[39;49m (\u001b[39m'\u001b[39;49m\u001b[39m \u001b[39;49m\u001b[39m'\u001b[39;49m \u001b[39m*\u001b[39;49m \u001b[39mmax\u001b[39;49m(last_len[\u001b[39m0\u001b[39;49m] \u001b[39m-\u001b[39;49m len_s, \u001b[39m0\u001b[39;49m)))\n\u001b[1;32m    351\u001b[0m     last_len[\u001b[39m0\u001b[39m] \u001b[39m=\u001b[39m len_s\n",
      "File \u001b[0;32m~/.cache/pypoetry/virtualenvs/js-rl-vfj9GiAe-py3.11/lib/python3.11/site-packages/tqdm/std.py:344\u001b[0m, in \u001b[0;36mtqdm.status_printer.<locals>.fp_write\u001b[0;34m(s)\u001b[0m\n\u001b[1;32m    342\u001b[0m \u001b[39mdef\u001b[39;00m \u001b[39mfp_write\u001b[39m(s):\n\u001b[1;32m    343\u001b[0m     fp\u001b[39m.\u001b[39mwrite(_unicode(s))\n\u001b[0;32m--> 344\u001b[0m     fp_flush()\n",
      "File \u001b[0;32m~/.cache/pypoetry/virtualenvs/js-rl-vfj9GiAe-py3.11/lib/python3.11/site-packages/tqdm/utils.py:145\u001b[0m, in \u001b[0;36mDisableOnWriteError.disable_on_exception.<locals>.inner\u001b[0;34m(*args, **kwargs)\u001b[0m\n\u001b[1;32m    143\u001b[0m \u001b[39mdef\u001b[39;00m \u001b[39minner\u001b[39m(\u001b[39m*\u001b[39margs, \u001b[39m*\u001b[39m\u001b[39m*\u001b[39mkwargs):\n\u001b[1;32m    144\u001b[0m     \u001b[39mtry\u001b[39;00m:\n\u001b[0;32m--> 145\u001b[0m         \u001b[39mreturn\u001b[39;00m func(\u001b[39m*\u001b[39;49margs, \u001b[39m*\u001b[39;49m\u001b[39m*\u001b[39;49mkwargs)\n\u001b[1;32m    146\u001b[0m     \u001b[39mexcept\u001b[39;00m \u001b[39mOSError\u001b[39;00m \u001b[39mas\u001b[39;00m e:\n\u001b[1;32m    147\u001b[0m         \u001b[39mif\u001b[39;00m e\u001b[39m.\u001b[39merrno \u001b[39m!=\u001b[39m \u001b[39m5\u001b[39m:\n",
      "File \u001b[0;32m~/.cache/pypoetry/virtualenvs/js-rl-vfj9GiAe-py3.11/lib/python3.11/site-packages/ipykernel/iostream.py:497\u001b[0m, in \u001b[0;36mOutStream.flush\u001b[0;34m(self)\u001b[0m\n\u001b[1;32m    495\u001b[0m     \u001b[39mself\u001b[39m\u001b[39m.\u001b[39mpub_thread\u001b[39m.\u001b[39mschedule(evt\u001b[39m.\u001b[39mset)\n\u001b[1;32m    496\u001b[0m     \u001b[39m# and give a timeout to avoid\u001b[39;00m\n\u001b[0;32m--> 497\u001b[0m     \u001b[39mif\u001b[39;00m \u001b[39mnot\u001b[39;00m evt\u001b[39m.\u001b[39;49mwait(\u001b[39mself\u001b[39;49m\u001b[39m.\u001b[39;49mflush_timeout):\n\u001b[1;32m    498\u001b[0m         \u001b[39m# write directly to __stderr__ instead of warning because\u001b[39;00m\n\u001b[1;32m    499\u001b[0m         \u001b[39m# if this is happening sys.stderr may be the problem.\u001b[39;00m\n\u001b[1;32m    500\u001b[0m         \u001b[39mprint\u001b[39m(\u001b[39m\"\u001b[39m\u001b[39mIOStream.flush timed out\u001b[39m\u001b[39m\"\u001b[39m, file\u001b[39m=\u001b[39msys\u001b[39m.\u001b[39m__stderr__)\n\u001b[1;32m    501\u001b[0m \u001b[39melse\u001b[39;00m:\n",
      "File \u001b[0;32m/usr/lib/python3.11/threading.py:622\u001b[0m, in \u001b[0;36mEvent.wait\u001b[0;34m(self, timeout)\u001b[0m\n\u001b[1;32m    620\u001b[0m signaled \u001b[39m=\u001b[39m \u001b[39mself\u001b[39m\u001b[39m.\u001b[39m_flag\n\u001b[1;32m    621\u001b[0m \u001b[39mif\u001b[39;00m \u001b[39mnot\u001b[39;00m signaled:\n\u001b[0;32m--> 622\u001b[0m     signaled \u001b[39m=\u001b[39m \u001b[39mself\u001b[39;49m\u001b[39m.\u001b[39;49m_cond\u001b[39m.\u001b[39;49mwait(timeout)\n\u001b[1;32m    623\u001b[0m \u001b[39mreturn\u001b[39;00m signaled\n",
      "File \u001b[0;32m/usr/lib/python3.11/threading.py:324\u001b[0m, in \u001b[0;36mCondition.wait\u001b[0;34m(self, timeout)\u001b[0m\n\u001b[1;32m    322\u001b[0m \u001b[39melse\u001b[39;00m:\n\u001b[1;32m    323\u001b[0m     \u001b[39mif\u001b[39;00m timeout \u001b[39m>\u001b[39m \u001b[39m0\u001b[39m:\n\u001b[0;32m--> 324\u001b[0m         gotit \u001b[39m=\u001b[39m waiter\u001b[39m.\u001b[39;49macquire(\u001b[39mTrue\u001b[39;49;00m, timeout)\n\u001b[1;32m    325\u001b[0m     \u001b[39melse\u001b[39;00m:\n\u001b[1;32m    326\u001b[0m         gotit \u001b[39m=\u001b[39m waiter\u001b[39m.\u001b[39macquire(\u001b[39mFalse\u001b[39;00m)\n",
      "\u001b[0;31mKeyboardInterrupt\u001b[0m: "
     ]
    }
   ],
   "source": [
    "optim = torch.optim.AdamW(\n",
    "    model.parameters(),\n",
    "    lr=1e-3,\n",
    "    eps=1e-6,\n",
    "    weight_decay=0.01,\n",
    "    betas=(0.9, 0.98),\n",
    ")\n",
    "\n",
    "train(model, train_loader, val_loader, optim)\n"
   ]
  },
  {
   "cell_type": "code",
   "execution_count": 28,
   "metadata": {},
   "outputs": [
    {
     "data": {
      "text/plain": [
       "<Axes: >"
      ]
     },
     "execution_count": 28,
     "metadata": {},
     "output_type": "execute_result"
    },
    {
     "data": {
      "image/png": "[encoded data removed]",
      "text/plain": [
       "<Figure size 640x480 with 1 Axes>"
      ]
     },
     "metadata": {},
     "output_type": "display_data"
    }
   ],
   "source": [
    "import seaborn as sns\n",
    "import numpy as np\n",
    "import pickle\n",
    "\n",
    "with open(\"ASTBERTa/models/sub-sequence/train_losses.pkl\", \"rb\") as f:\n",
    "    train_losses = pickle.load(f)\n",
    "  \n",
    "with open(\"ASTBERTa/models/sub-sequence/val_losses.pkl\", \"rb\") as f:\n",
    "    val_losses = pickle.load(f)\n",
    "\n",
    "train_losses = np.array(train_losses)\n",
    "val_losses = np.array(val_losses)\n",
    "\n",
    "N = train_losses.shape[0]\n",
    "\n",
    "\n",
    "sns.lineplot(x=np.arange(0, N), y=train_losses.mean(axis=1), label=\"train\")\n",
    "sns.lineplot(x=np.arange(0, N), y=val_losses, label=\"val\")"
   ]
  },
  {
   "cell_type": "code",
   "execution_count": 15,
   "metadata": {},
   "outputs": [],
   "source": [
    "dp_model = torch.load(\"ASTBERTa/models/final/model_28000.pt\")\n",
    "model = dp_model.to(device)"
   ]
  },
  {
   "cell_type": "code",
   "execution_count": 16,
   "metadata": {},
   "outputs": [],
   "source": [
    "import esprima\n",
    "from js_ast.nodes import Node\n",
    "from js_ast.fragmentise import frag_to_str, node_to_frags, hash_frag\n",
    "\n",
    "code = \"\"\"\n",
    "function foo() {\n",
    "    var a = 1;\n",
    "    var b = 2;\n",
    "}\n",
    "\"\"\"\n",
    "\n",
    "ast = esprima.parseScript(code)\n",
    "ast = Node.from_dict(ast.toDict())\n",
    "\n",
    "\n",
    "frag_seq = []\n",
    "frag_info_seq = []\n",
    "node_types = set()\n",
    "\n",
    "\n",
    "node_to_frags(ast, frag_seq, frag_info_seq, node_types)\n",
    "frags_str = [frag_to_str(frag) for frag in frag_seq]"
   ]
  },
  {
   "cell_type": "code",
   "execution_count": 17,
   "metadata": {},
   "outputs": [
    {
     "name": "stdout",
     "output_type": "stream",
     "text": [
      "[\"('type', 'Program')('sourceType', 'script')[('type', 'FunctionDeclaration')]\", \"('type', 'FunctionDeclaration'){('type', 'Identifier')}[]('generator', False)('isAsync', False)('expression', False){('type', 'BlockStatement')}\", \"('type', 'Identifier')('name', 'foo')\", \"('type', 'BlockStatement')[('type', 'VariableDeclaration'),('type', 'VariableDeclaration')]\", \"('type', 'VariableDeclaration')[('type', 'VariableDeclarator')]('kind', 'var')\", \"('type', 'VariableDeclarator'){('type', 'Identifier')}{('type', 'Literal')}\", \"('type', 'Identifier')('name', 'a')\", \"('type', 'Literal')('value', 1)('raw', '1')('regex', None)('bigint', None)\", \"('type', 'VariableDeclaration')[('type', 'VariableDeclarator')]('kind', 'var')\", \"('type', 'VariableDeclarator'){('type', 'Identifier')}{('type', 'Literal')}\", \"('type', 'Identifier')('name', 'b')\", \"('type', 'Literal')('value', 2)('raw', '2')('regex', None)('bigint', None)\"]\n"
     ]
    }
   ],
   "source": [
    "print(frags_str)"
   ]
  },
  {
   "cell_type": "code",
   "execution_count": 24,
   "metadata": {},
   "outputs": [
    {
     "name": "stdout",
     "output_type": "stream",
     "text": [
      "16992\n",
      "tensor([[    1,  8312, 10449,  9308,     2,  3305,  5516, 11618, 11153,  3305,\n",
      "          5516,  1327,  8643,     3]], device='cuda:0')\n"
     ]
    }
   ],
   "source": [
    "frag_seq_ids = [token_to_id[hash_frag(frag)] for frag in frag_seq]\n",
    "frag_seq_ids = [token_to_id[CLS_TOKEN]] + frag_seq_ids + [token_to_id[SEP_TOKEN]]\n",
    "k = 4\n",
    "print(frag_seq_ids[k])\n",
    "frag_seq_ids[k] = token_to_id[MASK_TOKEN]\n",
    "\n",
    "frag_seq_ids = torch.tensor(frag_seq_ids, dtype=torch.long).unsqueeze(0).to(device)\n",
    "\n",
    "print(frag_seq_ids)\n",
    "\n",
    "out = model(frag_seq_ids).logits\n",
    "preds = nn.functional.softmax(out, dim=-1)\n",
    "pred = torch.argmax(preds, dim=-1)"
   ]
  },
  {
   "cell_type": "code",
   "execution_count": 25,
   "metadata": {},
   "outputs": [
    {
     "name": "stdout",
     "output_type": "stream",
     "text": [
      "tensor([[ 1294,  8312, 10449,  8698,  4659,  3305,  5516, 11618, 11153,  3305,\n",
      "          5516,  1327,  8643,    12]], device='cuda:0')\n"
     ]
    }
   ],
   "source": [
    "print(pred)"
   ]
  },
  {
   "cell_type": "code",
   "execution_count": 15,
   "metadata": {},
   "outputs": [],
   "source": [
    "t = [\n",
    "    [1, 2, 5, 6, 0, 0],\n",
    "    [2, 3, 5, 0, 0, 0],\n",
    "    [1, 2, 3, 4, 5, 6],\n",
    "]\n",
    "\n",
    "# t = \n",
    "# print(t)"
   ]
  },
  {
   "cell_type": "code",
   "execution_count": 9,
   "metadata": {},
   "outputs": [],
   "source": [
    "config = RobertaConfig(\n",
    "    vocab_size=vocab_size,\n",
    "    hidden_size=hidden_size,\n",
    "    num_hidden_layers=num_hidden_layers,\n",
    "    num_attention_heads=num_attention_heads,\n",
    "    intermediate_size=intermediate_size,\n",
    "    hidden_dropout_prob=dropout,\n",
    "    max_position_embeddings=1026,\n",
    ")\n",
    "ast_net = RobertaModel(config).to(device)\n"
   ]
  },
  {
   "cell_type": "code",
   "execution_count": 16,
   "metadata": {},
   "outputs": [
    {
     "data": {
      "text/plain": [
       "BaseModelOutputWithPoolingAndCrossAttentions(last_hidden_state=tensor([[[ 6.1722e-01,  4.3260e-01,  1.5933e-01,  ...,  7.3708e-01,\n",
       "           4.6374e-01,  1.1797e-01],\n",
       "         [ 8.8787e-01,  8.1163e-01,  1.0322e+00,  ...,  3.8541e-01,\n",
       "           3.7509e-02, -1.1324e+00],\n",
       "         [ 2.2646e-01, -1.1131e+00,  1.8539e-01,  ...,  8.4913e-01,\n",
       "           1.5349e-01, -5.2603e-01],\n",
       "         [ 6.2816e-01,  6.4152e-01, -8.3964e-01,  ...,  3.9646e-01,\n",
       "           5.3345e-01,  1.8185e-01],\n",
       "         [ 7.1551e-01,  4.8978e-01,  1.2540e+00,  ...,  3.0588e-01,\n",
       "          -1.2160e-02, -4.7937e-01],\n",
       "         [ 6.9145e-01,  2.3819e-01, -2.1357e-01,  ..., -7.7907e-02,\n",
       "           4.3772e-01, -1.0086e+00]],\n",
       "\n",
       "        [[ 6.8574e-01,  4.0473e-01,  5.9456e-01,  ...,  3.3835e-01,\n",
       "           1.0181e-03, -1.3227e-01],\n",
       "         [ 2.3013e+00, -1.9017e-02,  1.4823e+00,  ...,  1.9135e-01,\n",
       "           6.0835e-01,  5.7279e-01],\n",
       "         [-5.1198e-01,  7.0884e-01,  6.3066e-01,  ...,  1.8414e-01,\n",
       "          -1.3327e+00, -4.8723e-01],\n",
       "         [ 1.1590e+00,  8.3474e-01,  9.0665e-01,  ...,  6.6811e-01,\n",
       "           3.2725e-01, -2.6330e-01],\n",
       "         [ 8.6665e-01,  1.1094e+00, -2.8083e-02,  ..., -3.4626e-01,\n",
       "           4.4667e-01, -5.0717e-01],\n",
       "         [ 1.6190e+00,  2.4067e-01,  1.2138e+00,  ...,  2.0715e-02,\n",
       "           6.4963e-02, -1.0664e+00]],\n",
       "\n",
       "        [[ 6.7585e-01,  2.0647e-01, -3.1908e-01,  ...,  1.3352e+00,\n",
       "           1.0959e+00,  4.2528e-01],\n",
       "         [ 5.4652e-01, -3.5496e-01,  1.2827e+00,  ...,  9.7265e-01,\n",
       "          -2.7103e-01, -1.5929e+00],\n",
       "         [ 3.5243e-01,  2.8967e-02,  6.0772e-01,  ...,  9.8200e-01,\n",
       "           1.0623e+00,  6.1537e-01],\n",
       "         [ 2.3226e-01,  9.0680e-01,  7.2346e-01,  ..., -1.0187e-01,\n",
       "          -6.4288e-01,  3.8581e-01],\n",
       "         [-3.1504e-02,  5.1294e-01, -1.1442e-01,  ...,  8.4977e-01,\n",
       "           6.9422e-01, -9.5980e-01],\n",
       "         [ 1.3337e-01,  5.3790e-01, -5.2934e-01,  ..., -1.2586e-01,\n",
       "          -1.3022e-01, -1.0677e+00]]], device='cuda:0',\n",
       "       grad_fn=<NativeLayerNormBackward0>), pooler_output=tensor([[-0.0369, -0.2100,  0.2814,  ...,  0.3352,  0.1203,  0.1896],\n",
       "        [ 0.5358, -0.2305, -0.4065,  ...,  0.3152,  0.1431,  0.6030],\n",
       "        [ 0.2671, -0.5286,  0.2310,  ...,  0.1255,  0.3267, -0.0773]],\n",
       "       device='cuda:0', grad_fn=<TanhBackward0>), hidden_states=None, past_key_values=None, attentions=None, cross_attentions=None)"
      ]
     },
     "execution_count": 16,
     "metadata": {},
     "output_type": "execute_result"
    }
   ],
   "source": [
    "ast_net(input_ids=torch.tensor(t, dtype=torch.long).to(device))"
   ]
  }
 ],
 "metadata": {
  "kernelspec": {
   "display_name": "js-rl-vfj9GiAe-py3.11",
   "language": "python",
   "name": "python3"
  },
  "language_info": {
   "codemirror_mode": {
    "name": "ipython",
    "version": 3
   },
   "file_extension": ".py",
   "mimetype": "text/x-python",
   "name": "python",
   "nbconvert_exporter": "python",
   "pygments_lexer": "ipython3",
   "version": "3.11.3"
  },
  "orig_nbformat": 4
 },
 "nbformat": 4,
 "nbformat_minor": 2
}
